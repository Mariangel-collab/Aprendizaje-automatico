{
 "cells": [
  {
   "cell_type": "markdown",
   "metadata": {},
   "source": [
    "#Proyecto Integrador "
   ]
  },
  {
   "cell_type": "markdown",
   "metadata": {},
   "source": [
    "Data set extraído de: kaggle competitions\n",
    "Título del Proyecto: Modelo de predicción para determinar los pasajeros que sobrevivieron al naufragio del Titanic\n",
    "\n",
    "I – Definición del problema\n",
    "El 15 de abril de 1912, durante su viaje inaugural, el RMS Titanic, ampliamente considerado como \"insumergible\", se hundió después de chocar con un iceberg. Desafortunadamente, no había suficientes botes salvavidas para todos a bordo, lo que resultó en la muerte de 1502 de los 2224 pasajeros y tripulantes. \n",
    "Teniendo en cuenta la sucesión de los hechos, todo indicaría que algunos grupos de personas en el barco tenían mayores probabilidades de sobrevivir que otros. \n",
    "\n",
    "II - Objetivo \n",
    "Construir un modelo predictivo que responda a la pregunta: \"¿Qué tipo de personas tenían más probabilidades de sobrevivir?\" utilizando datos de pasajeros (es decir, nombre, edad, sexo, clase socioeconómica, etc.)."
   ]
  },
  {
   "cell_type": "code",
   "execution_count": null,
   "metadata": {},
   "outputs": [],
   "source": []
  }
 ],
 "metadata": {
  "kernelspec": {
   "display_name": "Python 3",
   "language": "python",
   "name": "python3"
  },
  "language_info": {
   "codemirror_mode": {
    "name": "ipython",
    "version": 3
   },
   "file_extension": ".py",
   "mimetype": "text/x-python",
   "name": "python",
   "nbconvert_exporter": "python",
   "pygments_lexer": "ipython3",
   "version": "3.7.6"
  }
 },
 "nbformat": 4,
 "nbformat_minor": 4
}
